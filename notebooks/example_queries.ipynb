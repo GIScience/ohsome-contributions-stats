{
 "cells": [
  {
   "cell_type": "markdown",
   "id": "116e29bf",
   "metadata": {},
   "source": [
    "# Example queries \n",
    "\n",
    "this notebook compares the diffrent datasources based on the queries defined in the example_queries.md\n",
    "\n",
    "### Parameters and credentials\n",
    "\n",
    "the code cell below defines the list of analyzed hashtags and the time range to be compared.\n",
    "IMPORTANT do not forget to set the credentials for the individual databases."
   ]
  },
  {
   "cell_type": "code",
   "execution_count": 1,
   "id": "d0d6fc1f",
   "metadata": {
    "ExecuteTime": {
     "end_time": "2023-02-26T15:13:45.587386Z",
     "start_time": "2023-02-26T15:13:45.580621Z"
    }
   },
   "outputs": [],
   "source": [
    "# Hashtags should be case insensitive. This means that when you are adding `#missingmaps` or `#MissingMaps` or `#missingMaps` to a changeset comment this will all be counted towards lower case `missingmaps`. This is currently the case for the processing of the osmstats-api.\n",
    "\n",
    "hashtags = ['missingmaps','MissingMaps', 'bloomberg','visa','hotosm-project-14154','hotosm-project-*']\n",
    "\n",
    "\n",
    "timerange = [\"2015-01-01\",\"2022-12-31\"]\n",
    "\n",
    "# credentials for the OSM-stats API\n",
    "creds_mm = {\"u\":\"user@host\",\n",
    "            \"h\": \"host\",\n",
    "            \"port\": \"port\",\n",
    "            \"db\": \"db_name\",\n",
    "            \"pw\": \"password\"}\n",
    "\n",
    "# credentials for the OSM changeset DB\n",
    "creds_chDB =  {\"u\":\"postgres\",\n",
    "            \"h\": \"localhost\",\n",
    "            \"port\": \"5432\",\n",
    "            \"db\": \"postgres\",\n",
    "            \"pw\": \"Eichen12\"}\n",
    "\n",
    "# credentials for the OSHDB Tables \n",
    "creds_OSHDB =  {\"u\":\"user@host\",\n",
    "            \"h\": \"host\",\n",
    "            \"port\": \"port\",\n",
    "            \"db\": \"db_name\",\n",
    "            \"pw\": \"password\"}\n"
   ]
  },
  {
   "cell_type": "code",
   "execution_count": 3,
   "id": "cc2fa46a",
   "metadata": {
    "ExecuteTime": {
     "end_time": "2023-02-26T15:14:06.643798Z",
     "start_time": "2023-02-26T15:14:06.361777Z"
    }
   },
   "outputs": [
    {
     "data": {
      "text/plain": [
       "'\\ndef parquetQuery(timerange:[str],hashtag:str,filepath:str,coumns):->DataFrame\\n    #toDO\\n    return'"
      ]
     },
     "execution_count": 3,
     "metadata": {},
     "output_type": "execute_result"
    }
   ],
   "source": [
    "import psycopg2 as ps \n",
    "from psycopg2._psycopg import connection\n",
    "from pandas import DataFrame\n",
    "\n",
    "def osmStatsQuery(timerange:[str],hashtag:str,conn:connection,aggregator:str=\"COUNT(DISTINCT user_id)\"):\n",
    "    query = f\"\"\"SELECT {aggregator} FROM raw_changesets as raw WHERE (created_at BETWEEN '{timerange[0]}' AND '{timerange[1]}') AND raw.id in \n",
    "                (SELECT changeset_id FROM raw_changesets_hashtags as hsh where hsh.hashtag_id in \n",
    "                (SELECT id FROM raw_hashtags as rh WHERE LOWER(rh.hashtag) LIKE LOWER('{hashtag}')))\"\"\" \n",
    "    with conn.cursor() as cur:\n",
    "        cur.execute(query)\n",
    "        res = cur.fetchall()\n",
    "    return res\n",
    "\n",
    "def changesetDbQuery(timerange:[str],hashtag:str,conn:connection,aggregator:str=\"COUNT(DISTINCT user_id)\"):\n",
    "    query = f\"\"\"SELECT {aggregator} \n",
    "                FROM osm_changeset\n",
    "                WHERE (LOWER(tags -> 'comment') LIKE '%#visa%' or LOWER(tags -> 'hashtags') LIKE LOWER('%#visa%'))      \n",
    "                AND (created_at BETWEEN '{timerange[0]}' AND '{timerange[1]}');\n",
    "                \"\"\"\n",
    "    with conn.cursor() as cur:\n",
    "        cur.execute(query)\n",
    "        res = cur.fetchall()\n",
    "    return res\n",
    "\n",
    "\"\"\"\n",
    "def parquetQuery(timerange:[str],hashtag:str,filepath:str,coumns):->DataFrame\n",
    "    #toDO\n",
    "    return\"\"\""
   ]
  },
  {
   "cell_type": "markdown",
   "id": "aefeeccc",
   "metadata": {},
   "source": [
    "## EQ1 Number of OSM Contributors\n",
    "\n",
    "This is the number of distinct OSM users that contributed at least one changeset to a particular hashtag since the start of collecting data. This is the very first number displayed on the company leaderboards as `contributors`."
   ]
  },
  {
   "cell_type": "code",
   "execution_count": 7,
   "id": "a2652abb",
   "metadata": {
    "ExecuteTime": {
     "end_time": "2023-02-26T15:15:09.499029Z",
     "start_time": "2023-02-26T15:15:09.447661Z"
    }
   },
   "outputs": [
    {
     "ename": "UndefinedFunction",
     "evalue": "function lower(boolean) does not exist\nLINE 3:                 WHERE (LOWER(tags ? 'comment') LIKE '%missin...\n                               ^\nHINT:  No function matches the given name and argument types. You might need to add explicit type casts.\n",
     "output_type": "error",
     "traceback": [
      "\u001b[0;31m---------------------------------------------------------------------------\u001b[0m",
      "\u001b[0;31mUndefinedFunction\u001b[0m                         Traceback (most recent call last)",
      "\u001b[0;32m<ipython-input-7-4e1630e9662f>\u001b[0m in \u001b[0;36m<module>\u001b[0;34m\u001b[0m\n\u001b[1;32m      4\u001b[0m     \u001b[0;32mfor\u001b[0m \u001b[0mhashtag\u001b[0m \u001b[0;32min\u001b[0m \u001b[0mhashtags\u001b[0m\u001b[0;34m:\u001b[0m\u001b[0;34m\u001b[0m\u001b[0;34m\u001b[0m\u001b[0m\n\u001b[1;32m      5\u001b[0m         \u001b[0;31m#count_osmStats = osmStatsQuery(timerange,hashtag,conn=conn_mm,aggregator=aggregator)[0][0]\u001b[0m\u001b[0;34m\u001b[0m\u001b[0;34m\u001b[0m\u001b[0;34m\u001b[0m\u001b[0m\n\u001b[0;32m----> 6\u001b[0;31m         \u001b[0mcount_chDB\u001b[0m \u001b[0;34m=\u001b[0m \u001b[0mchangesetDbQuery\u001b[0m\u001b[0;34m(\u001b[0m\u001b[0mtimerange\u001b[0m\u001b[0;34m,\u001b[0m\u001b[0mhashtag\u001b[0m\u001b[0;34m,\u001b[0m\u001b[0mconn\u001b[0m\u001b[0;34m=\u001b[0m\u001b[0mconn_chDB\u001b[0m\u001b[0;34m,\u001b[0m\u001b[0maggregator\u001b[0m\u001b[0;34m=\u001b[0m\u001b[0maggregator\u001b[0m\u001b[0;34m)\u001b[0m\u001b[0;34m[\u001b[0m\u001b[0;36m0\u001b[0m\u001b[0;34m]\u001b[0m\u001b[0;34m[\u001b[0m\u001b[0;36m0\u001b[0m\u001b[0;34m]\u001b[0m\u001b[0;34m\u001b[0m\u001b[0;34m\u001b[0m\u001b[0m\n\u001b[0m\u001b[1;32m      7\u001b[0m \u001b[0;34m\u001b[0m\u001b[0m\n\u001b[1;32m      8\u001b[0m         \u001b[0mprint\u001b[0m\u001b[0;34m(\u001b[0m\u001b[0;34m\"#####################\"\u001b[0m\u001b[0;34m)\u001b[0m\u001b[0;34m\u001b[0m\u001b[0;34m\u001b[0m\u001b[0m\n",
      "\u001b[0;32m<ipython-input-3-b51a786eef5f>\u001b[0m in \u001b[0;36mchangesetDbQuery\u001b[0;34m(timerange, hashtag, conn, aggregator)\u001b[0m\n\u001b[1;32m     18\u001b[0m                 \"\"\"\n\u001b[1;32m     19\u001b[0m     \u001b[0;32mwith\u001b[0m \u001b[0mconn\u001b[0m\u001b[0;34m.\u001b[0m\u001b[0mcursor\u001b[0m\u001b[0;34m(\u001b[0m\u001b[0;34m)\u001b[0m \u001b[0;32mas\u001b[0m \u001b[0mcur\u001b[0m\u001b[0;34m:\u001b[0m\u001b[0;34m\u001b[0m\u001b[0;34m\u001b[0m\u001b[0m\n\u001b[0;32m---> 20\u001b[0;31m         \u001b[0mcur\u001b[0m\u001b[0;34m.\u001b[0m\u001b[0mexecute\u001b[0m\u001b[0;34m(\u001b[0m\u001b[0mquery\u001b[0m\u001b[0;34m)\u001b[0m\u001b[0;34m\u001b[0m\u001b[0;34m\u001b[0m\u001b[0m\n\u001b[0m\u001b[1;32m     21\u001b[0m         \u001b[0mres\u001b[0m \u001b[0;34m=\u001b[0m \u001b[0mcur\u001b[0m\u001b[0;34m.\u001b[0m\u001b[0mfetchall\u001b[0m\u001b[0;34m(\u001b[0m\u001b[0;34m)\u001b[0m\u001b[0;34m\u001b[0m\u001b[0;34m\u001b[0m\u001b[0m\n\u001b[1;32m     22\u001b[0m     \u001b[0;32mreturn\u001b[0m \u001b[0mres\u001b[0m\u001b[0;34m\u001b[0m\u001b[0;34m\u001b[0m\u001b[0m\n",
      "\u001b[0;31mUndefinedFunction\u001b[0m: function lower(boolean) does not exist\nLINE 3:                 WHERE (LOWER(tags ? 'comment') LIKE '%missin...\n                               ^\nHINT:  No function matches the given name and argument types. You might need to add explicit type casts.\n"
     ]
    }
   ],
   "source": [
    "#with ps.connect(dbname=creds_mm[\"db\"],user=creds_mm[\"u\"],host=creds_mm[\"h\"],password=creds_mm[\"pw\"]) as conn_mm:\n",
    "with ps.connect(dbname=creds_chDB[\"db\"],user=creds_chDB[\"u\"],host=creds_chDB[\"h\"],password=creds_chDB[\"pw\"]) as conn_chDB:\n",
    "    aggregator = \"COUNT(DISTINCT user_id)\"\n",
    "    for hashtag in hashtags:\n",
    "        #count_osmStats = osmStatsQuery(timerange,hashtag,conn=conn_mm,aggregator=aggregator)[0][0]\n",
    "        count_chDB = changesetDbQuery(timerange,hashtag,conn=conn_chDB,aggregator=aggregator)[0][0]\n",
    "\n",
    "        print(\"#####################\")\n",
    "        #print(f\"hashtag: {hashtag}\")\n",
    "        print(f\"measurment: Number of (unique) users\")\n",
    "        #print(f\"Result OSM-stats API: {count_osmStats}\")\n",
    "        print(f\"Result OSM changeset DB: {count_chDB}\")\n",
    "        print(f\"Result Parquet file: toDo\")"
   ]
  },
  {
   "cell_type": "markdown",
   "id": "4e6db2ac",
   "metadata": {
    "ExecuteTime": {
     "end_time": "2023-02-24T10:07:08.631476Z",
     "start_time": "2023-02-24T10:01:32.511Z"
    }
   },
   "source": [
    "## EQ2 Number of OSM Changesets\n",
    "\n",
    "This is the number of distinct OSM changesets contributed to a particular hashtag since the start of collecting data. This number is of less important for partners or reporting at mapathons and often this causes confusion.\n",
    "\n",
    "However, internally this number will be helpful to compare different processing approaches."
   ]
  },
  {
   "cell_type": "code",
   "execution_count": null,
   "id": "231af56a",
   "metadata": {},
   "outputs": [],
   "source": [
    "with ps.connect(dbname=creds_mm[\"db\"],user=creds_mm[\"u\"],host=creds_mm[\"h\"],password=creds_mm[\"pw\"]) as conn_mm:\n",
    "    with ps.connect(dbname=creds_chDB[\"db\"],user=creds_chDB[\"u\"],host=creds_chDB[\"h\"],password=creds_chDB[\"pw\"]) as conn_chDB:\n",
    "        aggregator = \"COUNT(DISTINCT id)\"\n",
    "        for hashtag in hashtags:\n",
    "            count_osmStats = osmStatsQuery(timerange,hashtag,conn=conn_mm,aggregator=aggregator)[0][0]\n",
    "            count_chDB = changesetDbQuery(timerange,hashtag,conn=conn_mm,aggregator=aggregator)[0][0]\n",
    "            \n",
    "            print(\"#####################\")\n",
    "            print(f\"hashtag: {hashtag}\")\n",
    "            print(f\"measurment: Number of OSM Changesets\")\n",
    "            print(f\"Result OSM-stats API: {count_osmStats}\")\n",
    "            print(f\"Result OSM changeset DB: {count_chDB}\")\n",
    "            print(f\"Result Parquet file: toDo\")\n",
    "            "
   ]
  },
  {
   "cell_type": "markdown",
   "id": "d924b87e",
   "metadata": {},
   "source": [
    "## EQ3 Number of Total Map Edits\n"
   ]
  },
  {
   "cell_type": "code",
   "execution_count": null,
   "id": "c68e6024",
   "metadata": {},
   "outputs": [],
   "source": [
    "with ps.connect(dbname=creds_mm[\"db\"],user=creds_mm[\"u\"],host=creds_mm[\"h\"],password=creds_mm[\"pw\"]) as conn_mm:\n",
    "    with ps.connect(dbname=creds_chDB[\"db\"],user=creds_chDB[\"u\"],host=creds_chDB[\"h\"],password=creds_chDB[\"pw\"]) as conn_chDB:\n",
    "        aggregator = \"SUM(num_changes)\"\n",
    "        for hashtag in hashtags:\n",
    "            count_osmStats = osmStatsQuery(timerange,hashtag,conn=conn_mm,aggregator=aggregator)[0][0]\n",
    "            count_chDB = changesetDbQuery(timerange,hashtag,conn=conn_mm,aggregator=aggregator)[0][0]\n",
    "            \n",
    "            print(\"#####################\")\n",
    "            print(f\"hashtag: {hashtag}\")\n",
    "            print(f\"measurment: Number of OSM Changesets\")\n",
    "            print(f\"Result OSM-stats API: {count_osmStats}\")\n",
    "            print(f\"Result OSM changeset DB: {count_chDB}\")\n",
    "            print(f\"Result Parquet file: toDo\")"
   ]
  }
 ],
 "metadata": {
  "kernelspec": {
   "display_name": "Python 3",
   "language": "python",
   "name": "python3"
  },
  "language_info": {
   "codemirror_mode": {
    "name": "ipython",
    "version": 3
   },
   "file_extension": ".py",
   "mimetype": "text/x-python",
   "name": "python",
   "nbconvert_exporter": "python",
   "pygments_lexer": "ipython3",
   "version": "3.7.11"
  },
  "toc": {
   "base_numbering": 1,
   "nav_menu": {},
   "number_sections": true,
   "sideBar": true,
   "skip_h1_title": false,
   "title_cell": "Table of Contents",
   "title_sidebar": "Contents",
   "toc_cell": false,
   "toc_position": {},
   "toc_section_display": true,
   "toc_window_display": false
  },
  "varInspector": {
   "cols": {
    "lenName": 16,
    "lenType": 16,
    "lenVar": 40
   },
   "kernels_config": {
    "python": {
     "delete_cmd_postfix": "",
     "delete_cmd_prefix": "del ",
     "library": "var_list.py",
     "varRefreshCmd": "print(var_dic_list())"
    },
    "r": {
     "delete_cmd_postfix": ") ",
     "delete_cmd_prefix": "rm(",
     "library": "var_list.r",
     "varRefreshCmd": "cat(var_dic_list()) "
    }
   },
   "types_to_exclude": [
    "module",
    "function",
    "builtin_function_or_method",
    "instance",
    "_Feature"
   ],
   "window_display": false
  }
 },
 "nbformat": 4,
 "nbformat_minor": 5
}
